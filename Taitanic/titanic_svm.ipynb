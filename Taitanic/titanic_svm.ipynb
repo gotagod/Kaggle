{
 "cells": [
  {
   "cell_type": "code",
   "execution_count": null,
   "metadata": {
    "collapsed": false
   },
   "outputs": [],
   "source": [
    "import pandas as pd\n",
    "import csv as csv\n",
    "import numpy as np\n",
    "import matplotlib.pyplot as plt\n",
    "%matplotlib inline\n",
    "df = pd.read_csv(\"train.csv\").replace(\"male\", 0).replace(\"female\", 1)\n",
    "df[\"Age\"].head()\n",
    "#欠損処理 by median\n",
    "df[\"Age\"].fillna(df.Age.median(), inplace = True)\n",
    "df[\"Age\"].head()\n",
    "df[\"FamiliySize\"] = df[\"SibSp\"] + df[\"Parch\"] + 1 #Familiysizeを親族＋子供の数＋本人で算出。同部屋の可能性などを探る。\n",
    "df_dropped = df.drop([\"Name\", \"SibSp\", \"Parch\", \"Ticket\", \"Fare\", \"Cabin\", \"Embarked\", \"PassengerId\"], axis = 1)#関係ない奴、Familysizeに統合された奴は省いたDf作成。\n",
    "df_dropped.head()"
   ]
  },
  {
   "cell_type": "code",
   "execution_count": 28,
   "metadata": {
    "collapsed": false
   },
   "outputs": [
    {
     "name": "stderr",
     "output_type": "stream",
     "text": [
      "C:\\Users\\user\\Anaconda3\\lib\\site-packages\\sklearn\\utils\\validation.py:444: DataConversionWarning: Data with input dtype int64 was converted to float64 by StandardScaler.\n",
      "  warnings.warn(msg, DataConversionWarning)\n"
     ]
    },
    {
     "data": {
      "text/plain": [
       "array([[-0.73769513,  0.82737724],\n",
       "       [ 1.35557354, -1.56610693],\n",
       "       [ 1.35557354,  0.82737724],\n",
       "       ..., \n",
       "       [ 1.35557354,  0.82737724],\n",
       "       [-0.73769513, -1.56610693],\n",
       "       [-0.73769513,  0.82737724]])"
      ]
     },
     "execution_count": 28,
     "metadata": {},
     "output_type": "execute_result"
    }
   ],
   "source": [
    "#LogRegに引き続いて説明変数を二つ選んで格納していく。\n",
    "#Sex and Pclassが高そうだから選ぶ\n",
    "#今回はなぜか分からんがArray型に変換。DataFrameじゃ処理ができないっぽい。\n",
    "x = df_dropped.loc[:,[\"Sex\", \"Pclass\"]].values\n",
    "y = df_dropped.loc[:,[\"Survived\"]].values #Survivedの被説明変数を格納\n",
    "\n",
    "# scikit-learnの仕様に合わせて､一列のベクトルに変換\n",
    "y = y.reshape(-1)\n",
    "\n",
    "# データの標準化、分類系では基本標準化した方が良い\n",
    "from sklearn.preprocessing import StandardScaler\n",
    "scaler = StandardScaler()\n",
    "scaler.fit(x)\n",
    "x_std = scaler.transform(x)\n",
    "x_std"
   ]
  },
  {
   "cell_type": "code",
   "execution_count": 38,
   "metadata": {
    "collapsed": false
   },
   "outputs": [
    {
     "data": {
      "text/plain": [
       "SVC(C=10, cache_size=200, class_weight=None, coef0=0.0,\n",
       "  decision_function_shape='ovr', degree=3, gamma='auto', kernel='linear',\n",
       "  max_iter=-1, probability=False, random_state=None, shrinking=True,\n",
       "  tol=0.001, verbose=False)"
      ]
     },
     "execution_count": 38,
     "metadata": {},
     "output_type": "execute_result"
    }
   ],
   "source": [
    "#データ分割から学習へ\n",
    "from sklearn.model_selection import train_test_split\n",
    "X_train, X_test, y_train, y_test = train_test_split(x_std, y, test_size=0.3, random_state=0)\n",
    "# 線形SVCの学習\n",
    "from sklearn.svm import SVC\n",
    "svc = SVC(kernel='linear', C = 10)\n",
    "svc.fit(X_train, y_train)"
   ]
  },
  {
   "cell_type": "code",
   "execution_count": 39,
   "metadata": {
    "collapsed": false
   },
   "outputs": [
    {
     "data": {
      "text/plain": [
       "0.78731343283582089"
      ]
     },
     "execution_count": 39,
     "metadata": {},
     "output_type": "execute_result"
    }
   ],
   "source": [
    "# 正答率を出力\n",
    "svc.score(X_test, y_test)"
   ]
  },
  {
   "cell_type": "code",
   "execution_count": 44,
   "metadata": {
    "collapsed": true
   },
   "outputs": [],
   "source": [
    "#結果があんま変わらんので混合行列で見てみる。\n",
    "from sklearn.metrics import confusion_matrix\n",
    "cm_1 = confusion_matrix(y_test, svc.predict(X_test))\n",
    "cm_1\n",
    "# 混合行列をグラフでプロットする関数\n",
    "def plot_cm(confmat):\n",
    "    fig, ax = plt.subplots(figsize=(5, 5))\n",
    "    ax.matshow(confmat, cmap=plt.cm.Blues, alpha=0.3)\n",
    "    for i in range(confmat.shape[0]):\n",
    "        for j in range(confmat.shape[1]):\n",
    "            ax.text(x=j, y=i, s=confmat[i, j], va='center', ha='center')\n",
    "    plt.title('predicted label')\n",
    "    plt.ylabel('true label')\n",
    "    plt.tight_layout() # ラベルが重ならないように自動調整\n",
    "    plt.show()"
   ]
  },
  {
   "cell_type": "code",
   "execution_count": 45,
   "metadata": {
    "collapsed": false
   },
   "outputs": [
    {
     "data": {
      "image/png": "[encoded data removed]",
      "text/plain": [
       "<matplotlib.figure.Figure at 0x2821f3e1cc0>"
      ]
     },
     "metadata": {},
     "output_type": "display_data"
    }
   ],
   "source": [
    "# 混同行列をグラフでプロット、別にそんなに傾向はみられない。\n",
    "plot_cm(cm_1)"
   ]
  },
  {
   "cell_type": "code",
   "execution_count": 46,
   "metadata": {
    "collapsed": true
   },
   "outputs": [],
   "source": [
    "#テストデータも同じ処理をしてreal_testを作成\n",
    "df_test = pd.read_csv(\"test.csv\").replace(\"male\", 0).replace(\"female\", 1)\n",
    "x_real_test = df_test.loc[:,[\"Sex\", \"Pclass\"]]\n",
    "\n",
    "# データの標準化、分類系では基本標準化した方が良い\n",
    "scaler.fit(x_real_test)\n",
    "x_test_std = scaler.transform(x_real_test)\n",
    "\n",
    "#モデルにX_test_std入れて予測\n",
    "output = svc.predict(x_test_std)\n",
    "\n",
    "#予測結果とPassIDをZipする\n",
    "zip_data = zip(df_test[\"PassengerId\"].astype(int), output.astype(int))\n",
    "predict_data = list(zip_data)\n",
    "\n",
    "# テスト値を再読み込みして，rfでクラス分類したカラムを追加\n",
    "df_out = pd.read_csv(\"./test.csv\")\n",
    "df_out[\"Survived\"] = output\n",
    "\n",
    "# outputディレクトリに出力する\n",
    "df_out[[\"PassengerId\",\"Survived\"]].to_csv(\"./submission_svc.csv\",index=False)"
   ]
  }
 ],
 "metadata": {
  "kernelspec": {
   "display_name": "Python [conda root]",
   "language": "python",
   "name": "conda-root-py"
  },
  "language_info": {
   "codemirror_mode": {
    "name": "ipython",
    "version": 3
   },
   "file_extension": ".py",
   "mimetype": "text/x-python",
   "name": "python",
   "nbconvert_exporter": "python",
   "pygments_lexer": "ipython3",
   "version": "3.5.2"
  }
 },
 "nbformat": 4,
 "nbformat_minor": 1
}
