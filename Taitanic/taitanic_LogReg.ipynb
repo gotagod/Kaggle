{
 "cells": [
  {
   "cell_type": "code",
   "execution_count": 4,
   "metadata": {
    "collapsed": false
   },
   "outputs": [
    {
     "data": {
      "text/html": [
       "<div>\n",
       "<style>\n",
       "    .dataframe thead tr:only-child th {\n",
       "        text-align: right;\n",
       "    }\n",
       "\n",
       "    .dataframe thead th {\n",
       "        text-align: left;\n",
       "    }\n",
       "\n",
       "    .dataframe tbody tr th {\n",
       "        vertical-align: top;\n",
       "    }\n",
       "</style>\n",
       "<table border=\"1\" class=\"dataframe\">\n",
       "  <thead>\n",
       "    <tr style=\"text-align: right;\">\n",
       "      <th></th>\n",
       "      <th>Survived</th>\n",
       "      <th>Pclass</th>\n",
       "      <th>Sex</th>\n",
       "      <th>Age</th>\n",
       "      <th>FamiliySize</th>\n",
       "    </tr>\n",
       "  </thead>\n",
       "  <tbody>\n",
       "    <tr>\n",
       "      <th>0</th>\n",
       "      <td>0</td>\n",
       "      <td>3</td>\n",
       "      <td>0</td>\n",
       "      <td>22.0</td>\n",
       "      <td>2</td>\n",
       "    </tr>\n",
       "    <tr>\n",
       "      <th>1</th>\n",
       "      <td>1</td>\n",
       "      <td>1</td>\n",
       "      <td>1</td>\n",
       "      <td>38.0</td>\n",
       "      <td>2</td>\n",
       "    </tr>\n",
       "    <tr>\n",
       "      <th>2</th>\n",
       "      <td>1</td>\n",
       "      <td>3</td>\n",
       "      <td>1</td>\n",
       "      <td>26.0</td>\n",
       "      <td>1</td>\n",
       "    </tr>\n",
       "    <tr>\n",
       "      <th>3</th>\n",
       "      <td>1</td>\n",
       "      <td>1</td>\n",
       "      <td>1</td>\n",
       "      <td>35.0</td>\n",
       "      <td>2</td>\n",
       "    </tr>\n",
       "    <tr>\n",
       "      <th>4</th>\n",
       "      <td>0</td>\n",
       "      <td>3</td>\n",
       "      <td>0</td>\n",
       "      <td>35.0</td>\n",
       "      <td>1</td>\n",
       "    </tr>\n",
       "  </tbody>\n",
       "</table>\n",
       "</div>"
      ],
      "text/plain": [
       "   Survived  Pclass  Sex   Age  FamiliySize\n",
       "0         0       3    0  22.0            2\n",
       "1         1       1    1  38.0            2\n",
       "2         1       3    1  26.0            1\n",
       "3         1       1    1  35.0            2\n",
       "4         0       3    0  35.0            1"
      ]
     },
     "execution_count": 4,
     "metadata": {},
     "output_type": "execute_result"
    }
   ],
   "source": [
    "import pandas as pd\n",
    "import csv as csv\n",
    "import numpy as np\n",
    "import matplotlib.pyplot as plt\n",
    "%matplotlib inline\n",
    "df = pd.read_csv(\"train.csv\").replace(\"male\", 0).replace(\"female\", 1)\n",
    "df[\"Age\"].head()\n",
    "#欠損処理 by median\n",
    "df[\"Age\"].fillna(df.Age.median(), inplace = True)\n",
    "df[\"Age\"].head()\n",
    "df[\"FamiliySize\"] = df[\"SibSp\"] + df[\"Parch\"] + 1 #Familiysizeを親族＋子供の数＋本人で算出。同部屋の可能性などを探る。\n",
    "df_dropped = df.drop([\"Name\", \"SibSp\", \"Parch\", \"Ticket\", \"Fare\", \"Cabin\", \"Embarked\", \"PassengerId\"], axis = 1)#関係ない奴、Familysizeに統合された奴は省いたDf作成。\n",
    "df_dropped.head()"
   ]
  },
  {
   "cell_type": "code",
   "execution_count": 7,
   "metadata": {
    "collapsed": false
   },
   "outputs": [
    {
     "name": "stderr",
     "output_type": "stream",
     "text": [
      "C:\\Users\\user\\Anaconda3\\lib\\site-packages\\sklearn\\utils\\validation.py:444: DataConversionWarning: Data with input dtype int64 was converted to float64 by StandardScaler.\n",
      "  warnings.warn(msg, DataConversionWarning)\n"
     ]
    },
    {
     "data": {
      "text/plain": [
       "array([[-0.73769513,  0.82737724],\n",
       "       [ 1.35557354, -1.56610693],\n",
       "       [ 1.35557354,  0.82737724],\n",
       "       ..., \n",
       "       [ 1.35557354,  0.82737724],\n",
       "       [-0.73769513, -1.56610693],\n",
       "       [-0.73769513,  0.82737724]])"
      ]
     },
     "execution_count": 7,
     "metadata": {},
     "output_type": "execute_result"
    }
   ],
   "source": [
    "#パーセプトロンに引き続いて説明変数を二つ選んで格納していく。\n",
    "#Sex and Pclassが高そうだから選ぶ\n",
    "#今回はなぜか分からんがArray型に変換。DataFrameじゃ処理ができないっぽい。\n",
    "x = df_dropped.loc[:,[\"Sex\", \"Pclass\"]].values\n",
    "y = df_dropped.loc[:,[\"Survived\"]].values #Survivedの被説明変数を格納\n",
    "\n",
    "# scikit-learnの仕様に合わせて､一列のベクトルに変換\n",
    "y = y.reshape(-1)\n",
    "\n",
    "# データの標準化、分類系では基本標準化した方が良い\n",
    "from sklearn.preprocessing import StandardScaler\n",
    "scaler = StandardScaler()\n",
    "scaler.fit(x)\n",
    "x_std = scaler.transform(x)\n",
    "x_std"
   ]
  },
  {
   "cell_type": "code",
   "execution_count": 12,
   "metadata": {
    "collapsed": false
   },
   "outputs": [
    {
     "data": {
      "text/plain": [
       "LogisticRegression(C=1.0, class_weight=None, dual=False, fit_intercept=True,\n",
       "          intercept_scaling=1, max_iter=100, multi_class='ovr', n_jobs=1,\n",
       "          penalty='l2', random_state=None, solver='liblinear', tol=0.0001,\n",
       "          verbose=0, warm_start=False)"
      ]
     },
     "execution_count": 12,
     "metadata": {},
     "output_type": "execute_result"
    }
   ],
   "source": [
    "#データ分割から学習へ\n",
    "from sklearn.model_selection import train_test_split\n",
    "X_train, X_test, y_train, y_test = train_test_split(x_std, y, test_size=0.3, random_state=0)\n",
    "# ロジスティック回帰の実行\n",
    "from sklearn.linear_model import LogisticRegression\n",
    "lr = LogisticRegression(C=1.0)\n",
    "lr.fit(X_train, y_train)"
   ]
  },
  {
   "cell_type": "code",
   "execution_count": 21,
   "metadata": {
    "collapsed": false
   },
   "outputs": [
    {
     "name": "stdout",
     "output_type": "stream",
     "text": [
      "train acc: 0.787\n",
      "test acc: 0.787\n"
     ]
    }
   ],
   "source": [
    "# 正答率を出力\n",
    "print('train acc: %.3f' % lr.score(X_train, y_train))\n",
    "print('test acc: %.3f' % lr.score(X_test, y_test))"
   ]
  },
  {
   "cell_type": "code",
   "execution_count": 23,
   "metadata": {
    "collapsed": false
   },
   "outputs": [],
   "source": [
    "#テストデータも同じ処理をしてreal_testを作成\n",
    "df_test = pd.read_csv(\"test.csv\").replace(\"male\", 0).replace(\"female\", 1)\n",
    "#Sex and Pclassが高そうだから選ぶ\n",
    "x_real_test = df_test.loc[:,[\"Sex\", \"Pclass\"]]\n",
    "\n",
    "# データの標準化、分類系では基本標準化した方が良い\n",
    "scaler.fit(x_real_test)\n",
    "x_test_std = scaler.transform(x_real_test)\n",
    "\n",
    "#モデルにX_test_std入れて予測\n",
    "output = lr.predict(x_test_std)\n",
    "\n",
    "#予測結果とPassIDをZipする\n",
    "zip_data = zip(df_test[\"PassengerId\"].astype(int), output.astype(int))\n",
    "predict_data = list(zip_data)\n",
    "\n",
    "# テスト値を再読み込みして，rfでクラス分類したカラムを追加\n",
    "df_out = pd.read_csv(\"./test.csv\")\n",
    "df_out[\"Survived\"] = output\n",
    "\n",
    "# outputディレクトリに出力する\n",
    "df_out[[\"PassengerId\",\"Survived\"]].to_csv(\"./submission_LogReg.csv\",index=False)"
   ]
  },
  {
   "cell_type": "code",
   "execution_count": null,
   "metadata": {
    "collapsed": false
   },
   "outputs": [],
   "source": []
  },
  {
   "cell_type": "code",
   "execution_count": null,
   "metadata": {
    "collapsed": true
   },
   "outputs": [],
   "source": []
  }
 ],
 "metadata": {
  "anaconda-cloud": {},
  "kernelspec": {
   "display_name": "Python [conda root]",
   "language": "python",
   "name": "conda-root-py"
  },
  "language_info": {
   "codemirror_mode": {
    "name": "ipython",
    "version": 3
   },
   "file_extension": ".py",
   "mimetype": "text/x-python",
   "name": "python",
   "nbconvert_exporter": "python",
   "pygments_lexer": "ipython3",
   "version": "3.5.2"
  }
 },
 "nbformat": 4,
 "nbformat_minor": 1
}
