{
 "cells": [
  {
   "cell_type": "code",
   "execution_count": 93,
   "metadata": {
    "collapsed": false
   },
   "outputs": [
    {
     "data": {
      "text/html": [
       "<div>\n",
       "<style>\n",
       "    .dataframe thead tr:only-child th {\n",
       "        text-align: right;\n",
       "    }\n",
       "\n",
       "    .dataframe thead th {\n",
       "        text-align: left;\n",
       "    }\n",
       "\n",
       "    .dataframe tbody tr th {\n",
       "        vertical-align: top;\n",
       "    }\n",
       "</style>\n",
       "<table border=\"1\" class=\"dataframe\">\n",
       "  <thead>\n",
       "    <tr style=\"text-align: right;\">\n",
       "      <th></th>\n",
       "      <th>PassengerId</th>\n",
       "      <th>Survived</th>\n",
       "      <th>Pclass</th>\n",
       "      <th>Name</th>\n",
       "      <th>Sex</th>\n",
       "      <th>Age</th>\n",
       "      <th>Ticket</th>\n",
       "      <th>Fare</th>\n",
       "      <th>Cabin</th>\n",
       "      <th>C</th>\n",
       "      <th>Q</th>\n",
       "      <th>S</th>\n",
       "      <th>FamilySize</th>\n",
       "    </tr>\n",
       "  </thead>\n",
       "  <tbody>\n",
       "    <tr>\n",
       "      <th>0</th>\n",
       "      <td>1</td>\n",
       "      <td>0</td>\n",
       "      <td>3</td>\n",
       "      <td>Braund, Mr. Owen Harris</td>\n",
       "      <td>0</td>\n",
       "      <td>22.0</td>\n",
       "      <td>A/5 21171</td>\n",
       "      <td>7.2500</td>\n",
       "      <td>NaN</td>\n",
       "      <td>0</td>\n",
       "      <td>0</td>\n",
       "      <td>1</td>\n",
       "      <td>2</td>\n",
       "    </tr>\n",
       "    <tr>\n",
       "      <th>1</th>\n",
       "      <td>2</td>\n",
       "      <td>1</td>\n",
       "      <td>1</td>\n",
       "      <td>Cumings, Mrs. John Bradley (Florence Briggs Th...</td>\n",
       "      <td>1</td>\n",
       "      <td>38.0</td>\n",
       "      <td>PC 17599</td>\n",
       "      <td>71.2833</td>\n",
       "      <td>C85</td>\n",
       "      <td>1</td>\n",
       "      <td>0</td>\n",
       "      <td>0</td>\n",
       "      <td>2</td>\n",
       "    </tr>\n",
       "    <tr>\n",
       "      <th>2</th>\n",
       "      <td>3</td>\n",
       "      <td>1</td>\n",
       "      <td>3</td>\n",
       "      <td>Heikkinen, Miss. Laina</td>\n",
       "      <td>1</td>\n",
       "      <td>26.0</td>\n",
       "      <td>STON/O2. 3101282</td>\n",
       "      <td>7.9250</td>\n",
       "      <td>NaN</td>\n",
       "      <td>0</td>\n",
       "      <td>0</td>\n",
       "      <td>1</td>\n",
       "      <td>1</td>\n",
       "    </tr>\n",
       "    <tr>\n",
       "      <th>3</th>\n",
       "      <td>4</td>\n",
       "      <td>1</td>\n",
       "      <td>1</td>\n",
       "      <td>Futrelle, Mrs. Jacques Heath (Lily May Peel)</td>\n",
       "      <td>1</td>\n",
       "      <td>35.0</td>\n",
       "      <td>113803</td>\n",
       "      <td>53.1000</td>\n",
       "      <td>C123</td>\n",
       "      <td>0</td>\n",
       "      <td>0</td>\n",
       "      <td>1</td>\n",
       "      <td>2</td>\n",
       "    </tr>\n",
       "    <tr>\n",
       "      <th>4</th>\n",
       "      <td>5</td>\n",
       "      <td>0</td>\n",
       "      <td>3</td>\n",
       "      <td>Allen, Mr. William Henry</td>\n",
       "      <td>0</td>\n",
       "      <td>35.0</td>\n",
       "      <td>373450</td>\n",
       "      <td>8.0500</td>\n",
       "      <td>NaN</td>\n",
       "      <td>0</td>\n",
       "      <td>0</td>\n",
       "      <td>1</td>\n",
       "      <td>1</td>\n",
       "    </tr>\n",
       "  </tbody>\n",
       "</table>\n",
       "</div>"
      ],
      "text/plain": [
       "   PassengerId  Survived  Pclass  \\\n",
       "0            1         0       3   \n",
       "1            2         1       1   \n",
       "2            3         1       3   \n",
       "3            4         1       1   \n",
       "4            5         0       3   \n",
       "\n",
       "                                                Name  Sex   Age  \\\n",
       "0                            Braund, Mr. Owen Harris    0  22.0   \n",
       "1  Cumings, Mrs. John Bradley (Florence Briggs Th...    1  38.0   \n",
       "2                             Heikkinen, Miss. Laina    1  26.0   \n",
       "3       Futrelle, Mrs. Jacques Heath (Lily May Peel)    1  35.0   \n",
       "4                           Allen, Mr. William Henry    0  35.0   \n",
       "\n",
       "             Ticket     Fare Cabin  C  Q  S  FamilySize  \n",
       "0         A/5 21171   7.2500   NaN  0  0  1           2  \n",
       "1          PC 17599  71.2833   C85  1  0  0           2  \n",
       "2  STON/O2. 3101282   7.9250   NaN  0  0  1           1  \n",
       "3            113803  53.1000  C123  0  0  1           2  \n",
       "4            373450   8.0500   NaN  0  0  1           1  "
      ]
     },
     "execution_count": 93,
     "metadata": {},
     "output_type": "execute_result"
    }
   ],
   "source": [
    "#習ったモデルは一通り試したので変数選択に工夫を出してみる。\n",
    "import pandas as pd\n",
    "import csv as csv\n",
    "import numpy as np\n",
    "import matplotlib.pyplot as plt\n",
    "%matplotlib inline\n",
    "\n",
    "#データの読み込み、性別はダミー変数化。\n",
    "df = pd.read_csv(\"train.csv\").replace(\"male\", 0).replace(\"female\", 1)\n",
    "\n",
    "#乗船場所もそれぞれダミー変数化しておく。\n",
    "embarked_dummies = pd.get_dummies(df[\"Embarked\"])\n",
    "df = df.drop(\"Embarked\", axis = 1)\n",
    "df = pd.concat((df, embarked_dummies), axis = 1)\n",
    "\n",
    "#FamSizeを本人+Sib+Parchで作成。\n",
    "df[\"FamilySize\"] = df[\"SibSp\"] + df[\"Parch\"] + 1\n",
    "df = df.drop([\"SibSp\", \"Parch\"], axis = 1)#Familysizeに統合された奴は省いたDf作成。\n",
    "\n",
    "df.isnull().sum()\n",
    "df.head()"
   ]
  },
  {
   "cell_type": "code",
   "execution_count": 94,
   "metadata": {
    "collapsed": false
   },
   "outputs": [],
   "source": [
    "#データフレームを生死で分けてみて色んな変数と見比べてみる。データ探索をする。\n",
    "split_data = [] #dataframeをSurvivedが0,1の人で二つのリストに分けるための箱。\n",
    "for survived in [0, 1]:\n",
    "    split_data.append(df[df.Survived == survived])"
   ]
  },
  {
   "cell_type": "code",
   "execution_count": 95,
   "metadata": {
    "collapsed": false
   },
   "outputs": [
    {
     "data": {
      "text/plain": [
       "([array([  80.,   97.,  372.]), array([ 216.,  184.,  491.])],\n",
       " array([ 1.        ,  1.66666667,  2.33333333,  3.        ]),\n",
       " <a list of 2 Lists of Patches objects>)"
      ]
     },
     "execution_count": 95,
     "metadata": {},
     "output_type": "execute_result"
    },
    {
     "data": {
      "image/png": "[encoded data removed]",
      "text/plain": [
       "<matplotlib.figure.Figure at 0x25a995162b0>"
      ]
     },
     "metadata": {},
     "output_type": "display_data"
    }
   ],
   "source": [
    "#まずはPclassとの関係性。チケットクラスが下がるほど、3rdになるほど0=deadが増えている。\n",
    "temp = [i[\"Pclass\"].dropna() for i in split_data] #一時的にヒストグラムに居れる変数もSurvivedの0 = dead,1 = aliveで分ける。Split_dataの中をForで回すけど実質二回だけ。\n",
    "plt.hist(temp, histtype = \"barstacked\", bins = 3)"
   ]
  },
  {
   "cell_type": "code",
   "execution_count": 96,
   "metadata": {
    "collapsed": false
   },
   "outputs": [
    {
     "data": {
      "text/plain": [
       "([array([ 468.,   81.]), array([ 577.,  314.])],\n",
       " array([ 0. ,  0.5,  1. ]),\n",
       " <a list of 2 Lists of Patches objects>)"
      ]
     },
     "execution_count": 96,
     "metadata": {},
     "output_type": "execute_result"
    },
    {
     "data": {
      "image/png": "[encoded data removed]",
      "text/plain": [
       "<matplotlib.figure.Figure at 0x25a99771358>"
      ]
     },
     "metadata": {},
     "output_type": "display_data"
    }
   ],
   "source": [
    "#性別で見ると、男性,０の死亡率が高く、女性は多く救助されている。\n",
    "temp = [i[\"Sex\"].dropna() for i in split_data]\n",
    "plt.hist(temp, histtype = \"barstacked\", bins = 2)"
   ]
  },
  {
   "cell_type": "code",
   "execution_count": 97,
   "metadata": {
    "collapsed": false
   },
   "outputs": [
    {
     "data": {
      "text/plain": [
       "([array([ 474.,   75.]), array([ 723.,  168.])],\n",
       " array([ 0. ,  0.5,  1. ]),\n",
       " <a list of 2 Lists of Patches objects>)"
      ]
     },
     "execution_count": 97,
     "metadata": {},
     "output_type": "execute_result"
    },
    {
     "data": {
      "image/png": "[encoded data removed]",
      "text/plain": [
       "<matplotlib.figure.Figure at 0x25a997e16a0>"
      ]
     },
     "metadata": {},
     "output_type": "display_data"
    }
   ],
   "source": [
    "#乗船場所は流石に関係なさそう。だが一応一つづつ確認してみる。\n",
    "temp = [i[\"C\"].dropna() for i in split_data]\n",
    "plt.hist(temp, histtype = \"barstacked\", bins = 2)"
   ]
  },
  {
   "cell_type": "code",
   "execution_count": 98,
   "metadata": {
    "collapsed": false
   },
   "outputs": [
    {
     "data": {
      "text/plain": [
       "([array([ 502.,   47.]), array([ 814.,   77.])],\n",
       " array([ 0. ,  0.5,  1. ]),\n",
       " <a list of 2 Lists of Patches objects>)"
      ]
     },
     "execution_count": 98,
     "metadata": {},
     "output_type": "execute_result"
    },
    {
     "data": {
      "image/png": "[encoded data removed]",
      "text/plain": [
       "<matplotlib.figure.Figure at 0x25a997e1860>"
      ]
     },
     "metadata": {},
     "output_type": "display_data"
    }
   ],
   "source": [
    "#乗船場所は流石に関係なさそう。だが一応一つづつ確認してみる。\n",
    "temp = [i[\"Q\"].dropna() for i in split_data]\n",
    "plt.hist(temp, histtype = \"barstacked\", bins = 2)"
   ]
  },
  {
   "cell_type": "code",
   "execution_count": 99,
   "metadata": {
    "collapsed": false
   },
   "outputs": [
    {
     "data": {
      "text/plain": [
       "([array([ 122.,  427.]), array([ 247.,  644.])],\n",
       " array([ 0. ,  0.5,  1. ]),\n",
       " <a list of 2 Lists of Patches objects>)"
      ]
     },
     "execution_count": 99,
     "metadata": {},
     "output_type": "execute_result"
    },
    {
     "data": {
      "image/png": "[encoded data removed]",
      "text/plain": [
       "<matplotlib.figure.Figure at 0x25a997e7908>"
      ]
     },
     "metadata": {},
     "output_type": "display_data"
    }
   ],
   "source": [
    "#乗船場所は流石に関係なさそう。だが一応一つづつ確認してみる。\n",
    "temp = [i[\"S\"].dropna() for i in split_data]\n",
    "plt.hist(temp, histtype = \"barstacked\", bins = 2)"
   ]
  },
  {
   "cell_type": "code",
   "execution_count": 100,
   "metadata": {
    "collapsed": false
   },
   "outputs": [
    {
     "data": {
      "text/plain": [
       "([array([  26.,   71.,  146.,   86.,   53.,   25.,   13.,    4.]),\n",
       "  array([  64.,  115.,  230.,  155.,   86.,   42.,   17.,    5.])],\n",
       " array([  0.42  ,  10.3675,  20.315 ,  30.2625,  40.21  ,  50.1575,\n",
       "         60.105 ,  70.0525,  80.    ]),\n",
       " <a list of 2 Lists of Patches objects>)"
      ]
     },
     "execution_count": 100,
     "metadata": {},
     "output_type": "execute_result"
    },
    {
     "data": {
      "image/png": "[encoded data removed]",
      "text/plain": [
       "<matplotlib.figure.Figure at 0x25a99562cf8>"
      ]
     },
     "metadata": {},
     "output_type": "display_data"
    }
   ],
   "source": [
    "#年齢はどうだろう。老人と子供は先に救助されるっていう描写が映画にはあるけれど、10歳以下の子供には明確な相関がなさそう。50代以降の人は確かに生存割合が高めになっている。\n",
    "temp = [i[\"Age\"].dropna() for i in split_data]\n",
    "plt.hist(temp, histtype = \"barstacked\", bins = 8)"
   ]
  },
  {
   "cell_type": "code",
   "execution_count": 114,
   "metadata": {
    "collapsed": false
   },
   "outputs": [
    {
     "data": {
      "text/plain": [
       "([array([ 374.,   72.,   43.,    8.,   12.,    0.,   19.,    8.,    6.,\n",
       "            0.,    0.,    7.]),\n",
       "  array([ 537.,  161.,  102.,   29.,   15.,    0.,   22.,   12.,    6.,\n",
       "            0.,    0.,    7.])],\n",
       " array([  1.        ,   1.83333333,   2.66666667,   3.5       ,\n",
       "          4.33333333,   5.16666667,   6.        ,   6.83333333,\n",
       "          7.66666667,   8.5       ,   9.33333333,  10.16666667,  11.        ]),\n",
       " <a list of 2 Lists of Patches objects>)"
      ]
     },
     "execution_count": 114,
     "metadata": {},
     "output_type": "execute_result"
    },
    {
     "data": {
      "image/png": "[encoded data removed]",
      "text/plain": [
       "<matplotlib.figure.Figure at 0x25a9aa31080>"
      ]
     },
     "metadata": {},
     "output_type": "display_data"
    }
   ],
   "source": [
    "#FamilySizeを見てみよう。同じ部屋に滞在した人には規則性があるっていう可能性があるという記事が出ていたので。\n",
    "#意外と有益な情報っぽい。二人以下の集団は大体亡くなっている。\n",
    "#一方で3－4人の集団は生存率が上回り気味。\n",
    "#さらに5人以上になるとほとんど死亡している。一遍に救助することの困難さが出ている。\n",
    "temp = [i[\"FamilySize\"].dropna() for i in split_data]\n",
    "plt.hist(temp, histtype = \"barstacked\", bins = 12)"
   ]
  },
  {
   "cell_type": "code",
   "execution_count": 115,
   "metadata": {
    "collapsed": false
   },
   "outputs": [
    {
     "name": "stdout",
     "output_type": "stream",
     "text": [
      "   Pclass  Survived\n",
      "0       1  0.629630\n",
      "1       2  0.472826\n",
      "2       3  0.242363\n"
     ]
    }
   ],
   "source": [
    "#上記の直感的なビジュアルを各変数の平均を算出して数値的にも意義が得られるかを検証する。\n",
    "print (df[['Pclass', 'Survived']].groupby(['Pclass'], as_index=False).mean())"
   ]
  },
  {
   "cell_type": "code",
   "execution_count": 116,
   "metadata": {
    "collapsed": false
   },
   "outputs": [
    {
     "name": "stdout",
     "output_type": "stream",
     "text": [
      "   Sex  Survived\n",
      "0    0  0.188908\n",
      "1    1  0.742038\n"
     ]
    }
   ],
   "source": [
    "print (df[['Sex', 'Survived']].groupby(['Sex'], as_index=False).mean())"
   ]
  },
  {
   "cell_type": "code",
   "execution_count": 117,
   "metadata": {
    "collapsed": false
   },
   "outputs": [
    {
     "name": "stdout",
     "output_type": "stream",
     "text": [
      "   FamilySize  Survived\n",
      "0           1  0.303538\n",
      "1           2  0.552795\n",
      "2           3  0.578431\n",
      "3           4  0.724138\n",
      "4           5  0.200000\n",
      "5           6  0.136364\n",
      "6           7  0.333333\n",
      "7           8  0.000000\n",
      "8          11  0.000000\n"
     ]
    }
   ],
   "source": [
    "print (df[['FamilySize', 'Survived']].groupby(['FamilySize'], as_index=False).mean())"
   ]
  },
  {
   "cell_type": "code",
   "execution_count": 118,
   "metadata": {
    "collapsed": false
   },
   "outputs": [
    {
     "name": "stdout",
     "output_type": "stream",
     "text": [
      "   C  Survived\n",
      "0  0  0.344398\n",
      "1  1  0.553571\n",
      "   Q  Survived\n",
      "0  0  0.383292\n",
      "1  1  0.389610\n",
      "   S  Survived\n",
      "0  0  0.506073\n",
      "1  1  0.336957\n"
     ]
    }
   ],
   "source": [
    "#乗船場所も一応確認してみる。\n",
    "print (df[['C', 'Survived']].groupby(['C'], as_index=False).mean())\n",
    "print (df[['Q', 'Survived']].groupby(['Q'], as_index=False).mean())\n",
    "print (df[['S', 'Survived']].groupby(['S'], as_index=False).mean())"
   ]
  },
  {
   "cell_type": "code",
   "execution_count": null,
   "metadata": {
    "collapsed": true
   },
   "outputs": [],
   "source": []
  },
  {
   "cell_type": "code",
   "execution_count": null,
   "metadata": {
    "collapsed": true
   },
   "outputs": [],
   "source": []
  },
  {
   "cell_type": "code",
   "execution_count": null,
   "metadata": {
    "collapsed": true
   },
   "outputs": [],
   "source": []
  }
 ],
 "metadata": {
  "anaconda-cloud": {},
  "kernelspec": {
   "display_name": "Python [conda root]",
   "language": "python",
   "name": "conda-root-py"
  },
  "language_info": {
   "codemirror_mode": {
    "name": "ipython",
    "version": 3
   },
   "file_extension": ".py",
   "mimetype": "text/x-python",
   "name": "python",
   "nbconvert_exporter": "python",
   "pygments_lexer": "ipython3",
   "version": "3.5.2"
  }
 },
 "nbformat": 4,
 "nbformat_minor": 1
}
